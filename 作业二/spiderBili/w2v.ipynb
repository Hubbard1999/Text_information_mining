{
 "cells": [
  {
   "cell_type": "code",
   "execution_count": 80,
   "metadata": {
    "collapsed": true,
    "pycharm": {
     "name": "#%%\n"
    }
   },
   "outputs": [],
   "source": [
    "import operator\n",
    "import io\n",
    "import os\n",
    "from tqdm import  tqdm\n",
    "import gensim\n",
    "import jieba\n",
    "import  annoy"
   ]
  },
  {
   "cell_type": "code",
   "execution_count": null,
   "outputs": [],
   "source": [
    "sentences = gensim.models.word2vec.Text8Corpus('fenci2.txt')\n",
    "model = gensim.models.word2vec.Word2Vec(\n",
    "    sentences,\n",
    "    min_count=3,\n",
    "    size=100\n",
    ")\n",
    "model.save('data/wordToVec')"
   ],
   "metadata": {
    "collapsed": false,
    "pycharm": {
     "name": "#%%\n"
    }
   }
  },
  {
   "cell_type": "code",
   "execution_count": 7,
   "outputs": [
    {
     "name": "stderr",
     "output_type": "stream",
     "text": [
      "100%|██████████| 4718/4718 [00:00<00:00, 60020.22it/s]\n"
     ]
    }
   ],
   "source": [
    "model = gensim.models.Word2Vec.load('data/wordToVec')\n",
    "wv = model.wv\n",
    "wv.vector_size\n",
    "\n",
    "word_index = annoy.AnnoyIndex(wv.vector_size,'angular')\n",
    "\n",
    "for i, word in enumerate(tqdm(wv.index2word)):\n",
    "    word_index.add_item(i,wv[word])"
   ],
   "metadata": {
    "collapsed": false,
    "pycharm": {
     "name": "#%%\n"
    }
   }
  },
  {
   "cell_type": "code",
   "execution_count": 97,
   "outputs": [],
   "source": [
    "#返回k近邻 头节点item\n",
    "def get_nns(item,word_list):\n",
    "    new_word=[]\n",
    "    new_word_tfidf = {} #存放 词语:词频\n",
    "    data_stop_path = \"baidu_stopwords.txt\"\n",
    "    data_stop_list = open(data_stop_path, encoding='utf-8').readlines()\n",
    "    data_stop_list = [line.strip(\"\\n\") for line in data_stop_list]\n",
    "\n",
    "    # knn\n",
    "    nns = word_index.get_nns_by_item(item, 10)\n",
    "    for i in nns:\n",
    "        if wv.index2word[i] in data_stop_list:\n",
    "            continue\n",
    "        new_word.append(wv.index2word[i])\n",
    "\n",
    "\n",
    "    for i in new_word:\n",
    "        if i in word_list.keys():\n",
    "            new_word_tfidf[i] = word_list[i]\n",
    "    # print(type(new_word_tfidf))\n",
    "    return new_word_tfidf"
   ],
   "metadata": {
    "collapsed": false,
    "pycharm": {
     "name": "#%%\n"
    }
   }
  },
  {
   "cell_type": "code",
   "execution_count": 57,
   "outputs": [],
   "source": [
    "#统计词频\n",
    "def st_word():\n",
    "    data_path = \"fenci2.txt\"\n",
    "    data_stop_path = \"baidu_stopwords.txt\"\n",
    "\n",
    "    data_list = open(data_path, encoding='utf-8').readlines()\n",
    "    data_list = [line.strip(\"\\n\") for line in data_list]\n",
    "\n",
    "    data_stop_list = open(data_stop_path, encoding='utf-8').readlines()\n",
    "    data_stop_list = [line.strip(\"\\n\") for line in data_stop_list]\n",
    "    jieba.load_userdict('bilibili.txt')\n",
    "    word_list={}\n",
    "    word_sum = 0\n",
    "    for item in tqdm(data_list):\n",
    "        seg_list = jieba.lcut(item)\n",
    "\n",
    "        for seg_item in seg_list:\n",
    "            if seg_item in data_stop_list:\n",
    "                continue\n",
    "            if seg_item in word_list.keys():\n",
    "                word_list[seg_item] += 1\n",
    "            else:\n",
    "                word_list[seg_item] = 1\n",
    "            word_sum+=1\n",
    "    return word_list,word_sum"
   ],
   "metadata": {
    "collapsed": false,
    "pycharm": {
     "name": "#%%\n"
    }
   }
  },
  {
   "cell_type": "code",
   "execution_count": 85,
   "outputs": [
    {
     "name": "stderr",
     "output_type": "stream",
     "text": [
      "100%|██████████| 26887/26887 [00:05<00:00, 4677.78it/s]\n"
     ]
    }
   ],
   "source": [
    "word_list,word_sum = st_word()"
   ],
   "metadata": {
    "collapsed": false,
    "pycharm": {
     "name": "#%%\n"
    }
   }
  },
  {
   "cell_type": "code",
   "execution_count": 105,
   "outputs": [],
   "source": [
    "new_word_list = {}\n",
    "import random\n",
    "index = random.sample(range(0,len(wv.index2word)),int(len(wv.index2word)*0.2))\n",
    "for i in index:\n",
    "    new_word_tfidf = get_nns(i,word_list)\n",
    "    new_word_v100 = {k:v for k, v in new_word_tfidf.items() if v>=30}\n",
    "    new_word_list = dict(new_word_list,**new_word_v100)\n",
    "    # print(new_word_v100)"
   ],
   "metadata": {
    "collapsed": false,
    "pycharm": {
     "name": "#%%\n"
    }
   }
  },
  {
   "cell_type": "code",
   "execution_count": 106,
   "outputs": [],
   "source": [
    "for k,v in new_word_list.items():\n",
    "    with open('bilibili_words.txt', 'a',encoding='utf-8') as f:\n",
    "        f.write(k +'\\t'+str(v)+ '\\n')"
   ],
   "metadata": {
    "collapsed": false,
    "pycharm": {
     "name": "#%%\n"
    }
   }
  },
  {
   "cell_type": "code",
   "execution_count": 104,
   "outputs": [
    {
     "data": {
      "text/plain": "<gensim.models.word2vec.Text8Corpus at 0x174e0275b48>"
     },
     "execution_count": 104,
     "metadata": {},
     "output_type": "execute_result"
    }
   ],
   "source": [
    "sentences"
   ],
   "metadata": {
    "collapsed": false,
    "pycharm": {
     "name": "#%%\n"
    }
   }
  }
 ],
 "metadata": {
  "kernelspec": {
   "display_name": "Python 3",
   "language": "python",
   "name": "python3"
  },
  "language_info": {
   "codemirror_mode": {
    "name": "ipython",
    "version": 2
   },
   "file_extension": ".py",
   "mimetype": "text/x-python",
   "name": "python",
   "nbconvert_exporter": "python",
   "pygments_lexer": "ipython2",
   "version": "2.7.6"
  }
 },
 "nbformat": 4,
 "nbformat_minor": 0
}