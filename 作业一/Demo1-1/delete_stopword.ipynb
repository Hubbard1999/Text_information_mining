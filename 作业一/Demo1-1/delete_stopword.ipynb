{
 "cells": [
  {
   "cell_type": "code",
   "execution_count": 1,
   "metadata": {
    "collapsed": true
   },
   "outputs": [],
   "source": [
    "import jieba\n",
    "from wordcloud import WordCloud,STOPWORDS\n",
    "import matplotlib.pyplot as plt\n",
    "import numpy as np\n",
    "import PIL.Image as image\n",
    "import re\n",
    "\n",
    "data_stop_path = \"data/baidu_stopwords.txt\"\n",
    "data_stop_list = open(data_stop_path, encoding='utf-8').readlines()\n",
    "data_stop_list = [line.strip(\"\\n\") for line in data_stop_list]"
   ]
  },
  {
   "cell_type": "code",
   "execution_count": 2,
   "outputs": [
    {
     "name": "stderr",
     "output_type": "stream",
     "text": [
      "Building prefix dict from the default dictionary ...\n",
      "Loading model from cache C:\\Users\\Mr.hu\\AppData\\Local\\Temp\\jieba.cache\n",
      "Loading model cost 1.232 seconds.\n",
      "Prefix dict has been built succesfully.\n"
     ]
    }
   ],
   "source": [
    "dest_path = 'data/sentences_deleteStop.txt'\n",
    "fw=open(dest_path,'w',encoding=\"utf-8\")\n",
    "\n",
    "with open('data/sentences.txt', encoding='utf-8') as fp:\n",
    "    for line in fp:\n",
    "        l = line\n",
    "        word_list=[]\n",
    "        words=jieba.lcut(l)\n",
    "        for word in words:\n",
    "            if word not in data_stop_list:\n",
    "                word_list.append(word)\n",
    "        t=' '.join(word_list)\n",
    "        fw.write(t+'\\n')"
   ],
   "metadata": {
    "collapsed": false,
    "pycharm": {
     "name": "#%%\n"
    }
   }
  }
 ],
 "metadata": {
  "kernelspec": {
   "display_name": "Python 3",
   "language": "python",
   "name": "python3"
  },
  "language_info": {
   "codemirror_mode": {
    "name": "ipython",
    "version": 2
   },
   "file_extension": ".py",
   "mimetype": "text/x-python",
   "name": "python",
   "nbconvert_exporter": "python",
   "pygments_lexer": "ipython2",
   "version": "2.7.6"
  }
 },
 "nbformat": 4,
 "nbformat_minor": 0
}